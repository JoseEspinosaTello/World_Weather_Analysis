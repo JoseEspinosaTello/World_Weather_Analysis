{
 "cells": [
  {
   "cell_type": "code",
   "execution_count": 12,
   "id": "f3f3ec67",
   "metadata": {},
   "outputs": [],
   "source": [
    "import random\n",
    "\n",
    "# Import the NumPy module.\n",
    "\n",
    "import numpy as np\n",
    "\n",
    "\n",
    "# Import timeit.\n",
    "import timeit\n"
   ]
  },
  {
   "cell_type": "code",
   "execution_count": 2,
   "id": "05b6973e",
   "metadata": {},
   "outputs": [
    {
     "data": {
      "text/plain": [
       "0.6303485325042383"
      ]
     },
     "execution_count": 2,
     "metadata": {},
     "output_type": "execute_result"
    }
   ],
   "source": [
    "#random.random() returns a floating point number between 0 and 1\n",
    "# a random floating point number can be very helpful when we need to generate a random value with precision\n",
    "random.random()"
   ]
  },
  {
   "cell_type": "code",
   "execution_count": 4,
   "id": "56b30889",
   "metadata": {},
   "outputs": [
    {
     "data": {
      "text/plain": [
       "8"
      ]
     },
     "execution_count": 4,
     "metadata": {},
     "output_type": "execute_result"
    }
   ],
   "source": [
    "#often we want to generate a random integer that falls within a specific range\n",
    "#random.randint() returns an integer between the first and second arguments.\n",
    "#important to note that random values can be equal to the lower and upper boundaries \n",
    "random.randint(-10,10)"
   ]
  },
  {
   "cell_type": "code",
   "execution_count": 5,
   "id": "e36d326c",
   "metadata": {},
   "outputs": [
    {
     "data": {
      "text/plain": [
       "7"
      ]
     },
     "execution_count": 5,
     "metadata": {},
     "output_type": "execute_result"
    }
   ],
   "source": [
    "#random.randrange() method produces and int that falls within the specific range\n",
    "#however it takes steps between the range step = 2\n",
    "random.randrange(-9,9,2)"
   ]
  },
  {
   "cell_type": "code",
   "execution_count": 6,
   "id": "4b7a9f88",
   "metadata": {},
   "outputs": [
    {
     "data": {
      "text/plain": [
       "-4.868589534184597"
      ]
     },
     "execution_count": 6,
     "metadata": {},
     "output_type": "execute_result"
    }
   ],
   "source": [
    "#random.uniform() produces value within specified range\n",
    "#not an int, is a value with multiple decimal praces\n",
    "random.uniform(-10,10)"
   ]
  },
  {
   "cell_type": "code",
   "execution_count": 7,
   "id": "934e7aa3",
   "metadata": {},
   "outputs": [
    {
     "data": {
      "text/plain": [
       "-72"
      ]
     },
     "execution_count": 7,
     "metadata": {},
     "output_type": "execute_result"
    }
   ],
   "source": [
    "random.randint(-90,90)"
   ]
  },
  {
   "cell_type": "code",
   "execution_count": 9,
   "id": "07454532",
   "metadata": {},
   "outputs": [
    {
     "data": {
      "text/plain": [
       "[-58.95149535352031,\n",
       " 9.024649898550592,\n",
       " 26.308060016448675,\n",
       " -18.057448281492032,\n",
       " -79.43601724399487,\n",
       " -58.58161831298136,\n",
       " -13.645422514479794,\n",
       " -64.92260932811138,\n",
       " -49.9225699095354,\n",
       " -25.868277998330974]"
      ]
     },
     "execution_count": 9,
     "metadata": {},
     "output_type": "execute_result"
    }
   ],
   "source": [
    "#Assign the variable x to 1.\n",
    "#Initialize an empty list, latitudes.\n",
    "#We create a while loop where we generate a random latitude and add it to the list.\n",
    "#After the random latitude is added to the list we add one to the variable \"x\".\n",
    "#The while loop condition is checked again and will continue to run as long as x is less than 11.\n",
    "\n",
    "\n",
    "x = 1\n",
    "latitudes = []\n",
    "while x < 11:\n",
    "    random_lat = random.randint(-90, 89) + random.random()\n",
    "    latitudes.append(random_lat)\n",
    "    x += 1\n",
    "latitudes"
   ]
  },
  {
   "cell_type": "code",
   "execution_count": 11,
   "id": "b16b9121",
   "metadata": {},
   "outputs": [
    {
     "data": {
      "text/plain": [
       "57.32915852205602"
      ]
     },
     "execution_count": 11,
     "metadata": {},
     "output_type": "execute_result"
    }
   ],
   "source": [
    "np.random.uniform(-90.000, 90.000) "
   ]
  },
  {
   "cell_type": "code",
   "execution_count": 15,
   "id": "1274a42e",
   "metadata": {},
   "outputs": [
    {
     "data": {
      "text/plain": [
       "array([ 69.79567986, -29.36209007, -51.06137468, -47.82639306,\n",
       "        83.63361463,  85.69406766,  30.70939845,  30.61515925,\n",
       "        43.7729437 ,  46.91592896, -80.47128215,  81.150209  ,\n",
       "       -43.32425596,  35.00864026, -63.81256005, -65.27698877,\n",
       "       -33.82729845, -86.42891827, -40.18126251, -75.31138329,\n",
       "       -20.76431931,   2.99110872,  49.77583253,  38.84075455,\n",
       "        61.03702313,  11.88939744,  -3.09314779,  11.01068264,\n",
       "        32.61799728, -11.79201279, -40.83806991, -58.14393896,\n",
       "         7.42727825,  45.23266656, -34.48080247, -67.82212835,\n",
       "       -79.07197907,   5.49463739,  47.30237735,  89.56789843,\n",
       "       -10.66258621, -12.39235375, -79.47810086, -43.38478271,\n",
       "        73.70363358, -68.91635502, -41.92559142, -31.34068285,\n",
       "        -8.48176955,  62.94791087])"
      ]
     },
     "execution_count": 15,
     "metadata": {},
     "output_type": "execute_result"
    }
   ],
   "source": [
    "np.random.uniform(-90.000, 90.000,size = 50) \n",
    "\n",
    "#The output is an array of 50 floating-point decimal numbers between -90.000 and 90.000."
   ]
  },
  {
   "cell_type": "code",
   "execution_count": 13,
   "id": "39418c55",
   "metadata": {},
   "outputs": [
    {
     "name": "stdout",
     "output_type": "stream",
     "text": [
      "10 µs ± 118 ns per loop (mean ± std. dev. of 7 runs, 100000 loops each)\n"
     ]
    }
   ],
   "source": [
    "#use timeit method to check if np or loop is faster\n",
    "\n",
    "%timeit np.random.uniform(-90.000,90.000,size=1500)\n",
    "#putput i 10 microseconds"
   ]
  },
  {
   "cell_type": "code",
   "execution_count": 14,
   "id": "ad602f52",
   "metadata": {},
   "outputs": [
    {
     "name": "stdout",
     "output_type": "stream",
     "text": [
      "1.17 ms ± 11.8 µs per loop (mean ± std. dev. of 7 runs, 1000 loops each)\n"
     ]
    }
   ],
   "source": [
    "def latitudes(size):\n",
    "    latitudes = []\n",
    "    x = 0\n",
    "    while x < (size):\n",
    "        random_lat = random.randint(-90, 90) + random.random()\n",
    "        latitudes.append(random_lat)\n",
    "        x += 1\n",
    "    return latitudes\n",
    "# Call the function with 1500.\n",
    "%timeit latitudes(1500)\n",
    "\n",
    "#output is 1.17 milliseconds\n",
    "# using np.random is 100 times faster"
   ]
  },
  {
   "cell_type": "code",
   "execution_count": null,
   "id": "4ca42331",
   "metadata": {},
   "outputs": [],
   "source": []
  }
 ],
 "metadata": {
  "kernelspec": {
   "display_name": "PythonData",
   "language": "python",
   "name": "pythondata"
  },
  "language_info": {
   "codemirror_mode": {
    "name": "ipython",
    "version": 3
   },
   "file_extension": ".py",
   "mimetype": "text/x-python",
   "name": "python",
   "nbconvert_exporter": "python",
   "pygments_lexer": "ipython3",
   "version": "3.7.11"
  }
 },
 "nbformat": 4,
 "nbformat_minor": 5
}

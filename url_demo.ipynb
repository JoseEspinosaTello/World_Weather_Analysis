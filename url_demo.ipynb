{
 "cells": [
  {
   "cell_type": "code",
   "execution_count": 1,
   "id": "25c566b5",
   "metadata": {},
   "outputs": [],
   "source": [
    "#import requests\n",
    "import requests\n",
    "from config import weather_api_key"
   ]
  },
  {
   "cell_type": "code",
   "execution_count": 2,
   "id": "8b02df5d",
   "metadata": {},
   "outputs": [],
   "source": [
    "#samve base of api url as variable\n",
    "url = \"http://api.openweathermap.org/data/2.5/weather?\"\n",
    "city = \"London\""
   ]
  },
  {
   "cell_type": "code",
   "execution_count": 3,
   "id": "be1119f8",
   "metadata": {},
   "outputs": [],
   "source": [
    "#complete url\n",
    "query_url = url + \"appid=\" + weather_api_key + \"&q=\" + city"
   ]
  },
  {
   "cell_type": "code",
   "execution_count": 5,
   "id": "762a0817",
   "metadata": {},
   "outputs": [],
   "source": [
    "#request data from api\n",
    "#response variable\n",
    "weather_response = requests.get(query_url)\n",
    "#convert to json\n",
    "weather_json = weather_response.json()"
   ]
  },
  {
   "cell_type": "code",
   "execution_count": 8,
   "id": "f7f390f9",
   "metadata": {},
   "outputs": [
    {
     "data": {
      "text/plain": [
       "dict_keys(['coord', 'weather', 'base', 'main', 'visibility', 'wind', 'clouds', 'dt', 'sys', 'timezone', 'id', 'name', 'cod'])"
      ]
     },
     "execution_count": 8,
     "metadata": {},
     "output_type": "execute_result"
    }
   ],
   "source": [
    "weather_json.keys()"
   ]
  },
  {
   "cell_type": "code",
   "execution_count": 10,
   "id": "ffafbdb5",
   "metadata": {},
   "outputs": [
    {
     "data": {
      "text/plain": [
       "{'temp': 288.06,\n",
       " 'feels_like': 287.51,\n",
       " 'temp_min': 286.51,\n",
       " 'temp_max': 289.01,\n",
       " 'pressure': 1017,\n",
       " 'humidity': 73}"
      ]
     },
     "execution_count": 10,
     "metadata": {},
     "output_type": "execute_result"
    }
   ],
   "source": [
    "#check values of json keys\n",
    "#Main contains wweather information\n",
    "#temp is in kelvin\n",
    "weather_json.get(\"main\")"
   ]
  },
  {
   "cell_type": "code",
   "execution_count": null,
   "id": "ba45b0ae",
   "metadata": {},
   "outputs": [],
   "source": [
    "#create more complex queries to collect and mold date"
   ]
  },
  {
   "cell_type": "code",
   "execution_count": 2,
   "id": "3ff61975",
   "metadata": {},
   "outputs": [],
   "source": [
    "\n",
    "url =\"http://api.openweathermap.org/data/2.5/weather?units=Imperial&APPID=\"+ weather_api_key\n"
   ]
  },
  {
   "cell_type": "code",
   "execution_count": 7,
   "id": "71ff2094",
   "metadata": {},
   "outputs": [],
   "source": [
    "#purposly put error in new york\n",
    "cities = [\"Pittsburgh\", \"Austin\", \"New   York\", \"Los Angeles\", \"Seattle\"]"
   ]
  },
  {
   "cell_type": "code",
   "execution_count": 8,
   "id": "2af08c22",
   "metadata": {},
   "outputs": [
    {
     "name": "stdout",
     "output_type": "stream",
     "text": [
      "It is currently 70.63 degrees in Pittsburgh\n",
      "It is currently 80.11 degrees in Austin\n"
     ]
    },
    {
     "ename": "KeyError",
     "evalue": "'main'",
     "output_type": "error",
     "traceback": [
      "\u001b[1;31m---------------------------------------------------------------------------\u001b[0m",
      "\u001b[1;31mKeyError\u001b[0m                                  Traceback (most recent call last)",
      "\u001b[1;32m~\\AppData\\Local\\Temp/ipykernel_17144/3446438788.py\u001b[0m in \u001b[0;36m<module>\u001b[1;34m\u001b[0m\n\u001b[0;32m      2\u001b[0m     \u001b[0mcity_url\u001b[0m \u001b[1;33m=\u001b[0m \u001b[0murl\u001b[0m \u001b[1;33m+\u001b[0m \u001b[1;34m\"&q=\"\u001b[0m \u001b[1;33m+\u001b[0m \u001b[0mcity\u001b[0m\u001b[1;33m\u001b[0m\u001b[1;33m\u001b[0m\u001b[0m\n\u001b[0;32m      3\u001b[0m     \u001b[0mweather\u001b[0m \u001b[1;33m=\u001b[0m \u001b[0mrequests\u001b[0m\u001b[1;33m.\u001b[0m\u001b[0mget\u001b[0m\u001b[1;33m(\u001b[0m\u001b[0mcity_url\u001b[0m\u001b[1;33m)\u001b[0m\u001b[1;33m.\u001b[0m\u001b[0mjson\u001b[0m\u001b[1;33m(\u001b[0m\u001b[1;33m)\u001b[0m\u001b[1;33m\u001b[0m\u001b[1;33m\u001b[0m\u001b[0m\n\u001b[1;32m----> 4\u001b[1;33m     \u001b[0mtemp\u001b[0m \u001b[1;33m=\u001b[0m \u001b[0mweather\u001b[0m\u001b[1;33m[\u001b[0m\u001b[1;34m'main'\u001b[0m\u001b[1;33m]\u001b[0m\u001b[1;33m[\u001b[0m\u001b[1;34m'temp'\u001b[0m\u001b[1;33m]\u001b[0m\u001b[1;33m\u001b[0m\u001b[1;33m\u001b[0m\u001b[0m\n\u001b[0m\u001b[0;32m      5\u001b[0m     \u001b[0mprint\u001b[0m\u001b[1;33m(\u001b[0m\u001b[1;34m\"It is currently \"\u001b[0m \u001b[1;33m+\u001b[0m \u001b[0mstr\u001b[0m\u001b[1;33m(\u001b[0m\u001b[0mtemp\u001b[0m\u001b[1;33m)\u001b[0m \u001b[1;33m+\u001b[0m \u001b[1;34m\" degrees in \"\u001b[0m \u001b[1;33m+\u001b[0m \u001b[0mcity\u001b[0m\u001b[1;33m)\u001b[0m\u001b[1;33m\u001b[0m\u001b[1;33m\u001b[0m\u001b[0m\n",
      "\u001b[1;31mKeyError\u001b[0m: 'main'"
     ]
    }
   ],
   "source": [
    "#will throw error for new york with extra space\n",
    "for city in cities:\n",
    "    city_url = url + \"&q=\" + city\n",
    "    weather = requests.get(city_url).json()\n",
    "    temp = weather['main']['temp']\n",
    "    print(\"It is currently \" + str(temp) + \" degrees in \" + city)"
   ]
  },
  {
   "cell_type": "code",
   "execution_count": 10,
   "id": "4a20e92a",
   "metadata": {},
   "outputs": [
    {
     "name": "stdout",
     "output_type": "stream",
     "text": [
      "It is currently 70.63 degrees in Pittsburgh\n",
      "It is currently 80.11 degrees in Austin\n",
      "KeyError recieved for New   York\n",
      "It is currently 63.63 degrees in Los Angeles\n",
      "It is currently 56.23 degrees in Seattle\n"
     ]
    }
   ],
   "source": [
    "#add exception to catch error and move past it\n",
    "for city in cities:\n",
    "    try: # place all code that you want to run in the try block\n",
    "        city_url = url + \"&q=\" + city\n",
    "        weather = requests.get(city_url).json()\n",
    "        temp = weather['main']['temp']\n",
    "        \n",
    "    except KeyError: #type except followed by error of error if we want to catch a specific error\n",
    "        \n",
    "        print('KeyError recieved for ' + city) #in block we type what we want to do if exception occurs\n",
    "        \n",
    "        continue #coninue will tell code to continue with loop but immediatly go to top of loop\n",
    "        \n",
    "    #print statement will not be in try block because we only want it to run if code succeeds\n",
    "    print(\"It is currently \" + str(temp) + \" degrees in \" + city)"
   ]
  },
  {
   "cell_type": "code",
   "execution_count": null,
   "id": "03d87021",
   "metadata": {},
   "outputs": [],
   "source": []
  }
 ],
 "metadata": {
  "kernelspec": {
   "display_name": "PythonData",
   "language": "python",
   "name": "pythondata"
  },
  "language_info": {
   "codemirror_mode": {
    "name": "ipython",
    "version": 3
   },
   "file_extension": ".py",
   "mimetype": "text/x-python",
   "name": "python",
   "nbconvert_exporter": "python",
   "pygments_lexer": "ipython3",
   "version": "3.7.11"
  }
 },
 "nbformat": 4,
 "nbformat_minor": 5
}
